{
 "cells": [
  {
   "cell_type": "code",
   "execution_count": 1,
   "id": "c9210ee2",
   "metadata": {},
   "outputs": [],
   "source": [
    "import numpy as np\n",
    "import pandas as pd\n",
    "import matplotlib.pyplot as plt\n",
    "%matplotlib inline\n",
    "import seaborn as sns\n",
    "\n",
    "import scipy.stats\n",
    "import statsmodels.api as sm\n",
    "import statsmodels.formula.api as smf\n",
    "\n",
    "sns.set_style('whitegrid')"
   ]
  },
  {
   "cell_type": "code",
   "execution_count": 2,
   "id": "e86bfc5a",
   "metadata": {},
   "outputs": [],
   "source": [
    "control_df = pd.read_csv('data/cross_maze_control.tsv', sep='\\t')"
   ]
  },
  {
   "cell_type": "code",
   "execution_count": 4,
   "id": "156e4f78",
   "metadata": {},
   "outputs": [],
   "source": [
    "stress_df = pd.read_csv('data/cross_maze.tsv', sep='\\t')"
   ]
  },
  {
   "cell_type": "code",
   "execution_count": 9,
   "id": "57cb9694",
   "metadata": {},
   "outputs": [],
   "source": [
    "control_df.sex= control_df.sex.apply(lambda x: int(x == 'male'))"
   ]
  },
  {
   "cell_type": "code",
   "execution_count": 12,
   "id": "82a32b59",
   "metadata": {},
   "outputs": [],
   "source": [
    "control_df= control_df.drop('experiment duration', axis=1)"
   ]
  },
  {
   "cell_type": "code",
   "execution_count": 13,
   "id": "f64c7baa",
   "metadata": {},
   "outputs": [],
   "source": [
    "stress_df = stress_df.drop('experiment duration', axis=1)"
   ]
  },
  {
   "cell_type": "code",
   "execution_count": 16,
   "id": "819df24a",
   "metadata": {},
   "outputs": [],
   "source": [
    "stress_df.sex = stress_df.sex.apply(lambda x: int(x == 'male'))"
   ]
  },
  {
   "cell_type": "code",
   "execution_count": 18,
   "id": "773503dc",
   "metadata": {},
   "outputs": [],
   "source": [
    "stress_df.group = stress_df.group.apply(lambda x: int(x == 'post-stress'))"
   ]
  },
  {
   "cell_type": "markdown",
   "id": "669b906a",
   "metadata": {},
   "source": [
    "Контроль против \"до стресса\".\n",
    "Столбцы, которые выделены \"!\" - отличаются у контроля и \"до стресса\" и по хорошему на них нельзя полагаться"
   ]
  },
  {
   "cell_type": "code",
   "execution_count": 25,
   "id": "758e75e8",
   "metadata": {},
   "outputs": [
    {
     "name": "stdout",
     "output_type": "stream",
     "text": [
      "! center time 0.0038869782761336534\n",
      "! sum corner time 0.0038869782761336534\n",
      "! min one corner time 0.013886504743788986\n",
      "max one corner time 0.13154445549243526\n",
      "! average corner time 0.03491094749899757\n",
      "! open_arms time 0.02683333145310224\n",
      "close_arms time 0.36422709450533236\n",
      "! overall track length 0.0169326851664126\n",
      "! center path 0.0014819529122337143\n",
      "! sum corner path 0.048581979776501805\n",
      "! min one corner path 0.024570416955925583\n",
      "! max one corner path 0.024570416955925583\n",
      "! average corner path 0.041289637076163364\n",
      " open_arms path 0.056869390579392595\n",
      "! close_arms path 0.020451132079806898\n",
      "! overall velocity 0.018514301339887643\n",
      "! center velocity 0.04801605966582154\n",
      "! max corner velocity 0.004833745843167021\n",
      "min corner velocity 0.21942386420112503\n",
      "! average corner velocity 0.018514301339887643\n",
      "average open_arms velosity 0.09441455121439535\n",
      "! average close_arms velocity 0.009987181028113067\n",
      "! overall activity 0.02936453635728179\n",
      "center activity 0.1157896014868573\n",
      "min one corner activity 0.0711900358310355\n",
      "max one corner activity 0.05253084738039692\n",
      "! open_arms 0.02683333145310224\n",
      "close_arms 0.10150855302460682\n"
     ]
    }
   ],
   "source": [
    "for c in control_df.columns[2:]:\n",
    "    pval =  scipy.stats.mannwhitneyu(stress_df[stress_df.group == 0][c], control_df[c]).pvalue\n",
    "    if pval < 0.05:\n",
    "        print('!',c, pval)\n",
    "    else:\n",
    "        print(c, pval)"
   ]
  },
  {
   "cell_type": "markdown",
   "id": "f3e1844f",
   "metadata": {},
   "source": [
    "Разница между контролем и \"после стресса\". Восклицательный знак - значимая разница."
   ]
  },
  {
   "cell_type": "code",
   "execution_count": 26,
   "id": "56f1d514",
   "metadata": {},
   "outputs": [
    {
     "name": "stdout",
     "output_type": "stream",
     "text": [
      "! center time 0.0010818935644351531\n",
      "! sum corner time 0.0032680805871213377\n",
      "! min one corner time 0.0015699964094894154\n",
      "! max one corner time 0.004608898673527463\n",
      "! average corner time 0.004577688952093156\n",
      "! open_arms time 0.012013835712721023\n",
      "! close_arms time 0.011950898808598332\n",
      "! overall track length 0.002288961178842803\n",
      "! center path 0.0007300309581211239\n",
      "! sum corner path 0.004608898673527463\n",
      "! min one corner path 0.0038595868874050435\n",
      "! max one corner path 0.04666877358901148\n",
      "! average corner path 0.004608898673527463\n",
      "!  open_arms path 0.021421800914008225\n",
      "! close_arms path 0.012013835712721023\n",
      "! overall velocity 0.002270862103842222\n",
      "center velocity 0.0591061443898281\n",
      "! max corner velocity 0.0007300309581211239\n",
      "! min corner velocity 0.003220277943671487\n",
      "! average corner velocity 0.0007157952413006761\n",
      "! average open_arms velosity 0.046229971573303864\n",
      "! average close_arms velocity 0.0006947819582014047\n",
      "! overall activity 0.002288961178842803\n",
      "center activity 0.13579433712168737\n",
      "! min one corner activity 0.0032680805871213377\n",
      "max one corner activity 0.09142085085619905\n",
      "open_arms 0.11215656325557699\n",
      "! close_arms 0.0007300309581211239\n"
     ]
    }
   ],
   "source": [
    "for c in control_df.columns[2:]:\n",
    "    pval =  scipy.stats.mannwhitneyu(stress_df[stress_df.group == 1][c], control_df[c]).pvalue\n",
    "    if pval < 0.05:\n",
    "        print('!',c, pval)\n",
    "    else:\n",
    "        print(c, pval)"
   ]
  },
  {
   "cell_type": "code",
   "execution_count": null,
   "id": "d3fb9e6c",
   "metadata": {},
   "outputs": [],
   "source": []
  }
 ],
 "metadata": {
  "kernelspec": {
   "display_name": "Python 3",
   "language": "python",
   "name": "python3"
  },
  "language_info": {
   "codemirror_mode": {
    "name": "ipython",
    "version": 3
   },
   "file_extension": ".py",
   "mimetype": "text/x-python",
   "name": "python",
   "nbconvert_exporter": "python",
   "pygments_lexer": "ipython3",
   "version": "3.8.7"
  }
 },
 "nbformat": 4,
 "nbformat_minor": 5
}
