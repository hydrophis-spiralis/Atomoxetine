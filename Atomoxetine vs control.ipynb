{
 "cells": [
  {
   "cell_type": "code",
   "execution_count": null,
   "id": "1cee8502",
   "metadata": {},
   "outputs": [],
   "source": [
    "import numpy as np\n",
    "import pandas as pd\n",
    "import matplotlib.pyplot as plt\n",
    "%matplotlib inline\n",
    "import seaborn as sns\n",
    "\n",
    "import scipy.stats\n",
    "import statsmodels.api as sm\n",
    "import statsmodels.formula.api as smf\n",
    "\n",
    "sns.set_style('whitegrid')\n",
    "\n",
    "control_data = pd.read_csv('control.tsv', sep='\\t')\n",
    "control_data.sex = control_data.sex.map(lambda x: x == 'male').astype(int)\n",
    "control_data.group = 0\n",
    "\n",
    "amoxetine_control_df = pd.concat([data[data.group==1], control_data])\n",
    "\n",
    "amoxetine_control_df\n",
    "\n",
    "control_data\n",
    "\n",
    "amoxetine_control_df\n",
    "\n",
    "from scipy.spatial import distance\n",
    "\n",
    "amoxetine_df = amoxetine_control_df[amoxetine_control_df.group == 1].drop('group', axis=1)\n",
    "control_df = amoxetine_control_df[amoxetine_control_df.group == 0].drop('group', axis=1)\n",
    "\n",
    "for col in data.columns[2:]:\n",
    "    sns.kdeplot(x=col, hue='group', data =amoxetine_control_df)    \n",
    "    plt.show()\n",
    "\n",
    "for col in data.columns[2:]:\n",
    "    print(scipy.stats.mannwhitneyu(amoxetine_control_df[amoxetine_control_df.group == 0][col],\n",
    "    amoxetine_control_df[amoxetine_control_df.group == 1][col]))"
   ]
  }
 ],
 "metadata": {
  "kernelspec": {
   "display_name": "Python 3",
   "language": "python",
   "name": "python3"
  },
  "language_info": {
   "codemirror_mode": {
    "name": "ipython",
    "version": 3
   },
   "file_extension": ".py",
   "mimetype": "text/x-python",
   "name": "python",
   "nbconvert_exporter": "python",
   "pygments_lexer": "ipython3",
   "version": "3.8.7"
  }
 },
 "nbformat": 4,
 "nbformat_minor": 5
}
